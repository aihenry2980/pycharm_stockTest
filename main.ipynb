{
 "cells": [
  {
   "cell_type": "markdown",
   "metadata": {},
   "source": [
    "# 나스닥 기업 주가 예측"
   ]
  },
  {
   "cell_type": "code",
   "execution_count": null,
   "metadata": {},
   "outputs": [],
   "source": [
    "# 필요한 라이브러리를 아래 예시처럼 불러옵니다.\n",
    "import pandas as pd"
   ]
  },
  {
   "cell_type": "code",
   "execution_count": null,
   "metadata": {},
   "outputs": [],
   "source": [
    "org_idx = 8\n",
    "org_df = pd.read_csv(f\"/mnt/elice/dataset/contest_data/org_{org_idx}.csv\")"
   ]
  },
  {
   "cell_type": "markdown",
   "metadata": {},
   "source": [
    "# 제출 및 채점\n",
    "\n",
    "채점을 위해 결과 파일을 지시사항에 나온 형태로 만들어 `result.csv` 이름으로 저장합니다."
   ]
  },
  {
   "cell_type": "code",
   "execution_count": null,
   "metadata": {},
   "outputs": [],
   "source": [
    "# result.csv로 저장할 결과를 result_df라는 dataframe으로 만들어서 저장하는 예시\n",
    "result_df = pd.DataFrame(\n",
    "    columns=[f\"org_{org_idx}\" for org_idx in range(1, 16)], # org는 총 15개\n",
    "    index=[f\"day{day_idx}\" for day_idx in range(1, 11)] # 예측 날짜는 총 10개\n",
    ")\n",
    "\n",
    "# 각 org 별로 10일간 예측 결과를 result_df에 저장\n",
    "pass\n",
    "\n",
    "# result_df를 results_csv로 저장\n",
    "result_df.to_csv(\"result.csv\")"
   ]
  },
  {
   "cell_type": "markdown",
   "metadata": {},
   "source": [
    "아래 코드를 수정하면 정상적인 채점을 수행할 수 없습니다."
   ]
  },
  {
   "cell_type": "code",
   "execution_count": null,
   "metadata": {},
   "outputs": [],
   "source": [
    "import os\n",
    "\n",
    "os.system('elice_grade result.csv')"
   ]
  }
 ],
 "metadata": {
  "kernelspec": {
   "display_name": "Python 3.9.12 ('base')",
   "language": "python",
   "name": "python3"
  },
  "language_info": {
   "codemirror_mode": {
    "name": "ipython",
    "version": 3
   },
   "file_extension": ".py",
   "mimetype": "text/x-python",
   "name": "python",
   "nbconvert_exporter": "python",
   "pygments_lexer": "ipython3",
   "version": "3.9.12"
  },
  "orig_nbformat": 4,
  "vscode": {
   "interpreter": {
    "hash": "0d04bc97a25a95bc84cca91f9cf664addac1a958aae387d1e896f022d2618104"
   }
  }
 },
 "nbformat": 4,
 "nbformat_minor": 2
}
